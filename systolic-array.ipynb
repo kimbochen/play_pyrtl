{
 "cells": [
  {
   "cell_type": "markdown",
   "id": "368515c0",
   "metadata": {},
   "source": [
    "# Systolic Array\n",
    "\n",
    "In this notebook, we learn how systolic array works\n",
    "and implement a 2 x 2 systolic array using PyRTL."
   ]
  },
  {
   "cell_type": "markdown",
   "id": "82a318b9",
   "metadata": {},
   "source": [
    "## Introduction\n",
    "\n",
    "The heart of the TPU is a systolic array,\n",
    "an architecture drastically different from that of a CPU or a GPU.  \n",
    "A key feature of systolic arrays is that **little memory accesses are needed**,\n",
    "making it extremely efficient in computing matrix multiplication."
   ]
  },
  {
   "cell_type": "markdown",
   "id": "5aa737ac",
   "metadata": {},
   "source": [
    "## MAC Unit\n",
    "\n",
    "A systolic array consists of a grid of connected processor elements, AKA MAC units.  \n",
    "MAC stands for Multiply-and-ACcumulate.  \n",
    "As the name suggests, a MAC unit takes 2 inputs, multiplies them, and accumulates the result.\n",
    "For the outputs, a MAC unit outputs the accumulated result and the 2 inputs,\n",
    "passing them on to other MAC units."
   ]
  },
  {
   "cell_type": "code",
   "execution_count": 1,
   "id": "7f9f2214",
   "metadata": {},
   "outputs": [],
   "source": [
    "import pyrtl as pr"
   ]
  },
  {
   "cell_type": "code",
   "execution_count": 2,
   "id": "78535373",
   "metadata": {},
   "outputs": [],
   "source": [
    "BIT_WIDTH = 3"
   ]
  },
  {
   "cell_type": "markdown",
   "id": "38eba659",
   "metadata": {},
   "source": [
    "We use a function to encapsulate a MAC unit.  \n",
    "The function arguments are inputs, and the return values are outputs.  \n",
    "The second argument of `pr.Register` is the name we give to a register.  \n",
    "The operator `<<=` is defined by PyRTL, indicating a wire connection."
   ]
  },
  {
   "cell_type": "code",
   "execution_count": 3,
   "id": "d4d1302b",
   "metadata": {},
   "outputs": [],
   "source": [
    "def mac_unit(w_in, d_in, uid):\n",
    "    accum = pr.Register(BIT_WIDTH * 2, f'reg_accum_{uid}')\n",
    "    w_out = pr.Register(BIT_WIDTH, f'reg_w_out_{uid}')\n",
    "    d_out = pr.Register(BIT_WIDTH, f'reg_d_out_{uid}')\n",
    "\n",
    "    accum.next <<= accum + w_in * d_in\n",
    "    w_out.next <<= w_in\n",
    "    d_out.next <<= d_in\n",
    "\n",
    "    return w_out, d_out, accum"
   ]
  },
  {
   "cell_type": "markdown",
   "id": "16f393dd",
   "metadata": {},
   "source": [
    "## How A Systolic Array Works within A Row\n",
    "\n",
    "Recall that a systolic array is a **grid** of processor elements (PEs).\n",
    "Here we explain how a row of PEs work together."
   ]
  },
  {
   "cell_type": "markdown",
   "id": "b1508723",
   "metadata": {},
   "source": [
    "A PE in a row of a systolic array\n",
    "- Recieves 2 inputs: `weight` and `data`.\n",
    "- Performs calculation and outputs `accum`.\n",
    "- Propagates `weight` to the next PE, i.e. the PE on its right.\n",
    "- Propagates `data`, more on that in the next section."
   ]
  },
  {
   "cell_type": "markdown",
   "id": "021c917e",
   "metadata": {},
   "source": [
    "One thing to note about the implementation is that  \n",
    "**We describe the connections sequentially, but the hardware runs in parallel.**  \n",
    "For example, the first PE passes its weight to the second PE\n",
    "while the second PE may be performing multiplication."
   ]
  },
  {
   "cell_type": "code",
   "execution_count": 4,
   "id": "ed399782",
   "metadata": {},
   "outputs": [],
   "source": [
    "def systolic_row(weight, data, row):\n",
    "    d_outs = []\n",
    "    accums = []\n",
    "\n",
    "    for col, d_in in enumerate(data):\n",
    "        weight, d_out, accum = mac_unit(weight, d_in, f'{row}{col}')\n",
    "        d_outs.append(d_out)\n",
    "        accums.append(accum)\n",
    "\n",
    "    return d_outs, accums"
   ]
  },
  {
   "cell_type": "markdown",
   "id": "94129e31",
   "metadata": {},
   "source": [
    "## How A Systolic Array Works Between Rows\n",
    "\n",
    "Similar to `weight`, each row propagates its row of `data` signals to the next row.  \n",
    "In the function `systolic_array`, we connect each `weight` with a row of PEs.  \n",
    "`outs` is the list of accumulated outputs of all the PEs."
   ]
  },
  {
   "cell_type": "code",
   "execution_count": 5,
   "id": "c2a2c7fa",
   "metadata": {},
   "outputs": [],
   "source": [
    "def systolic_array(weights, data):\n",
    "    outs = []\n",
    "    for row, weight in enumerate(weights):\n",
    "        data, accums = systolic_row(weight, data, row)\n",
    "        for accum in accums:\n",
    "            outs.append(accum)\n",
    "    return outs"
   ]
  },
  {
   "cell_type": "markdown",
   "id": "b762251a",
   "metadata": {},
   "source": [
    "## I/O Setups\n",
    "\n",
    "Below are setups for the simulation.\n",
    "`weights` and `data` are where elements of the 2 matrix would go,\n",
    "and `outs` would be the output."
   ]
  },
  {
   "cell_type": "code",
   "execution_count": 6,
   "id": "5b3f0370",
   "metadata": {},
   "outputs": [],
   "source": [
    "ARRAY_DIM = 2\n",
    "weights = [pr.Input(BIT_WIDTH, f'in_w_{idx}') for idx in range(ARRAY_DIM)]\n",
    "data = [pr.Input(BIT_WIDTH, f'in_d_{idx}') for idx in range(ARRAY_DIM)]\n",
    "outs = [pr.Output(BIT_WIDTH * 2, f'out_{idx:02b}') for idx in range(ARRAY_DIM**2)]"
   ]
  },
  {
   "cell_type": "code",
   "execution_count": 7,
   "id": "e4a1d135",
   "metadata": {},
   "outputs": [],
   "source": [
    "out_vals = systolic_array(weights, data)\n",
    "for out, out_val in zip(outs, out_vals):\n",
    "    out <<= out_val"
   ]
  },
  {
   "cell_type": "code",
   "execution_count": 8,
   "id": "cee17949",
   "metadata": {},
   "outputs": [],
   "source": [
    "sim_trace = pr.SimulationTrace()\n",
    "sim = pr.Simulation(tracer=sim_trace)"
   ]
  },
  {
   "cell_type": "markdown",
   "id": "0ad22fd1",
   "metadata": {},
   "source": [
    "## How A Systolic Array Works\n",
    "\n",
    "Suppose we are doing this matrix multiplication:\n",
    "$$\\mathcal{W} \\cdot \\mathcal{D}=\n",
    "\\begin{bmatrix} 1 & 2 \\\\ 3 & 4 \\end{bmatrix}\n",
    "\\cdot\n",
    "\\begin{bmatrix} 4 & 5 \\\\ 6 & 7 \\end{bmatrix}=\n",
    "\\begin{bmatrix} 16 & 19 \\\\ 36 & 43 \\end{bmatrix} = \\mathcal{A}$$"
   ]
  },
  {
   "cell_type": "markdown",
   "id": "39c4fa22",
   "metadata": {},
   "source": [
    "Here is a figure of the systolic array:\n",
    "```\n",
    "          in_d_0      in_d_1\n",
    "          |           |\n",
    "          V           V\n",
    "in_w_0 -> PE[0, 0] -> PE[0, 1]\n",
    "          |           |\n",
    "          V           V\n",
    "in_w_1 -> PE[1, 0] -> PE[1, 1]\n",
    "```"
   ]
  },
  {
   "cell_type": "markdown",
   "id": "12c092b1",
   "metadata": {},
   "source": [
    "Since weights and data are propagated at each cycle, we need to pad inputs to ensure correctness."
   ]
  },
  {
   "cell_type": "code",
   "execution_count": 9,
   "id": "272d7980",
   "metadata": {},
   "outputs": [],
   "source": [
    "PAD = 0"
   ]
  },
  {
   "cell_type": "code",
   "execution_count": 10,
   "id": "665f70b7",
   "metadata": {},
   "outputs": [],
   "source": [
    "sim.step({'in_w_0': 2, 'in_w_1': PAD, 'in_d_0': 6, 'in_d_1': PAD})"
   ]
  },
  {
   "cell_type": "markdown",
   "id": "eff4f1a8",
   "metadata": {},
   "source": [
    "We first input $\\mathcal{W}_{0, 1}$ and $\\mathcal{D}_{1, 0}$\n",
    "into the systolic array.  \n",
    "In this cycle, only `PE[0, 0]` is executing, and the results will show up in the next cycle.\n",
    "\n",
    "```\n",
    "       6           PAD\n",
    "       |           |\n",
    "       V           V\n",
    "  2 -> PE[0, 0] -> PE[0, 1]\n",
    "       |           |\n",
    "       V           V\n",
    "PAD -> PE[1, 0] -> PE[1, 1]\n",
    "```"
   ]
  },
  {
   "cell_type": "code",
   "execution_count": 11,
   "id": "dd220807",
   "metadata": {},
   "outputs": [
    {
     "name": "stdout",
     "output_type": "stream",
     "text": [
      "Output of PE[0, 0]: 12\n"
     ]
    }
   ],
   "source": [
    "sim.step({'in_w_0': 1, 'in_w_1': 4, 'in_d_0': 4, 'in_d_1': 7})\n",
    "print(f'Output of PE[0, 0]: {sim.inspect(\"out_00\")}')"
   ]
  },
  {
   "cell_type": "markdown",
   "id": "23d9f6b8",
   "metadata": {},
   "source": [
    "In this step, `PE[0, 1]` and `PE[1, 0]` are put to work\n",
    "because they received input from `PE[0, 0]`.  \n",
    "This is why `in_w_1` and `in_d_1` need padding: they are waiting for `PE[0, 0]`.  \n",
    "`PE[0, 0]` is also doing new calculations at the same time.\n",
    "In this case, it is accumulating $1 \\times 4$ to the output.\n",
    "```\n",
    "     4           7\n",
    "     |           |\n",
    "     V        2  V\n",
    "1 -> PE[0, 0] -> PE[0, 1]\n",
    "     | 6         |\n",
    "     V           V\n",
    "4 -> PE[1, 0] -> PE[1, 1]\n",
    "```"
   ]
  },
  {
   "cell_type": "code",
   "execution_count": 12,
   "id": "53385daa",
   "metadata": {},
   "outputs": [
    {
     "name": "stdout",
     "output_type": "stream",
     "text": [
      "Output of PE[0, 0]: 16\n",
      "Output of PE[0, 1]: 14\n",
      "OUtput of PE[1, 0]: 24\n"
     ]
    }
   ],
   "source": [
    "sim.step({'in_w_0': PAD, 'in_w_1': 3, 'in_d_0': PAD, 'in_d_1': 5})\n",
    "print(\n",
    "    f'Output of PE[0, 0]: {sim.inspect(\"out_00\")}',\n",
    "    f'Output of PE[0, 1]: {sim.inspect(\"out_01\")}',\n",
    "    f'OUtput of PE[1, 0]: {sim.inspect(\"out_10\")}',\n",
    "    sep='\\n'\n",
    ")"
   ]
  },
  {
   "cell_type": "markdown",
   "id": "046ccb04",
   "metadata": {},
   "source": [
    "In this step, we are pushing the rest of the matrix elements into the systolic array.  \n",
    "Now that `PE[1, 1]` received inputs, it is put to work.\n",
    "```\n",
    "       PAD         5\n",
    "       |           |\n",
    "       V        1  V\n",
    "PAD -> PE[0, 0] -> PE[0, 1]\n",
    "       | 4         | 7\n",
    "       V        4  V\n",
    "  3 -> PE[1, 0] -> PE[1, 1]\n",
    "```"
   ]
  },
  {
   "cell_type": "markdown",
   "id": "0755a885",
   "metadata": {},
   "source": [
    "`PE[0, 0]` has completed its computation. What is the result?  \n",
    "In the first cycle, it accumulated $\\mathcal{W}_{0, 1} \\cdot \\mathcal{D}_{1, 0}$.  \n",
    "In the second cycle, it accumulated\n",
    "$\\mathcal{W}_{0, 1} \\cdot \\mathcal{D}_{1, 0} + \\mathcal{W}_{0, 0} \\cdot \\mathcal{D}_{0, 0}$.  \n",
    "The result is exactly $\\mathcal{A}_{0, 0}$."
   ]
  },
  {
   "cell_type": "code",
   "execution_count": 13,
   "id": "9c8fc622",
   "metadata": {},
   "outputs": [
    {
     "name": "stdout",
     "output_type": "stream",
     "text": [
      "Output of PE[1, 0]: 36\n",
      "Output of PE[0, 1]: 19\n",
      "Output of PE[1, 1]: 28\n"
     ]
    }
   ],
   "source": [
    "sim.step({'in_w_0': PAD, 'in_w_1': PAD, 'in_d_0': PAD, 'in_d_1': PAD})\n",
    "print(\n",
    "    f'Output of PE[1, 0]: {sim.inspect(\"out_10\")}',\n",
    "    f'Output of PE[0, 1]: {sim.inspect(\"out_01\")}',\n",
    "    f'Output of PE[1, 1]: {sim.inspect(\"out_11\")}',\n",
    "    sep='\\n'\n",
    ")"
   ]
  },
  {
   "cell_type": "markdown",
   "id": "5cd76d88",
   "metadata": {},
   "source": [
    "In this step, `PE[0, 1]` and `PE[1, 0]` have completed their computations.  \n",
    "`PE[0, 1]` computed $\\mathcal{W}_{0, 1} \\cdot \\mathcal{D}_{1, 1} +\n",
    "\\mathcal{W}_{0, 0} \\cdot \\mathcal{D}_{0, 1} = \\mathcal{A}_{0, 1}$.  \n",
    "`PE[1, 0]` computed $\\mathcal{W}_{1, 1} \\cdot \\mathcal{D}_{1, 0} +\n",
    "\\mathcal{W}_{1, 0} \\cdot \\mathcal{D}_{0, 0} = \\mathcal{A}_{1, 0}$.\n",
    "```\n",
    "       PAD         PAD\n",
    "       |           |\n",
    "       V           V\n",
    "PAD -> PE[0, 0] -> PE[0, 1]\n",
    "       |           | 5\n",
    "       V        3  V\n",
    "PAD -> PE[1, 0] -> PE[1, 1]\n",
    "```"
   ]
  },
  {
   "cell_type": "code",
   "execution_count": 14,
   "id": "e9649b9a",
   "metadata": {},
   "outputs": [
    {
     "name": "stdout",
     "output_type": "stream",
     "text": [
      "Output of PE[0, 0]: 16\n",
      "Output of PE[0, 1]: 19\n",
      "OUtput of PE[1, 0]: 36\n",
      "Output of PE[1, 1]: 43\n"
     ]
    }
   ],
   "source": [
    "sim.step({'in_w_0': PAD, 'in_w_1': PAD, 'in_d_0': PAD, 'in_d_1': PAD})\n",
    "print(\n",
    "    f'Output of PE[0, 0]: {sim.inspect(\"out_00\")}',\n",
    "    f'Output of PE[0, 1]: {sim.inspect(\"out_01\")}',\n",
    "    f'OUtput of PE[1, 0]: {sim.inspect(\"out_10\")}',\n",
    "    f'Output of PE[1, 1]: {sim.inspect(\"out_11\")}',\n",
    "    sep='\\n'\n",
    ")"
   ]
  },
  {
   "cell_type": "markdown",
   "id": "9646e893",
   "metadata": {},
   "source": [
    "In the final step, `PE[1, 1]` has completed its computation,\n",
    "and the result is $\\mathcal{A}_{1, 1}$."
   ]
  },
  {
   "cell_type": "markdown",
   "id": "64afcb41",
   "metadata": {},
   "source": [
    "## Conclusion\n",
    "\n",
    "Matrix elements are pumped through the systolic array,\n",
    "just like how the heart pumps blood periodically, hence the name.  \n",
    "The number of cycles needed to multiply $n \\times n$ matrices is $\\mathcal{O}(n)$.  \n",
    "It still fascinates me how everything falls into place perfectly."
   ]
  },
  {
   "cell_type": "markdown",
   "id": "08936181",
   "metadata": {},
   "source": [
    "Here is the waveform diagram:"
   ]
  },
  {
   "cell_type": "code",
   "execution_count": 15,
   "id": "b37043fc",
   "metadata": {},
   "outputs": [
    {
     "data": {
      "text/html": [
       "<script type=\"WaveDrom\">\n",
       "{\n",
       "  signal : [\n",
       "    { name: \"in_d_0\",  wave: \"===..\", data: [\"0x6\", \"0x4\", \"0x0\"] },\n",
       "    { name: \"in_d_1\",  wave: \"====.\", data: [\"0x0\", \"0x7\", \"0x5\", \"0x0\"] },\n",
       "    { name: \"in_w_0\",  wave: \"===..\", data: [\"0x2\", \"0x1\", \"0x0\"] },\n",
       "    { name: \"in_w_1\",  wave: \"====.\", data: [\"0x0\", \"0x4\", \"0x3\", \"0x0\"] },\n",
       "    { name: \"out_00\",  wave: \"===..\", data: [\"0x0\", \"0xc\", \"0x10\"] },\n",
       "    { name: \"out_01\",  wave: \"=.==.\", data: [\"0x0\", \"0xe\", \"0x13\"] },\n",
       "    { name: \"out_10\",  wave: \"=.==.\", data: [\"0x0\", \"0x18\", \"0x24\"] },\n",
       "    { name: \"out_11\",  wave: \"=..==\", data: [\"0x0\", \"0x1c\", \"0x2b\"] },\n",
       "    { name: \"reg_accum_00\",  wave: \"===..\", data: [\"0x0\", \"0xc\", \"0x10\"] },\n",
       "    { name: \"reg_accum_01\",  wave: \"=.==.\", data: [\"0x0\", \"0xe\", \"0x13\"] },\n",
       "    { name: \"reg_accum_10\",  wave: \"=.==.\", data: [\"0x0\", \"0x18\", \"0x24\"] },\n",
       "    { name: \"reg_accum_11\",  wave: \"=..==\", data: [\"0x0\", \"0x1c\", \"0x2b\"] },\n",
       "    { name: \"reg_d_out_00\",  wave: \"====.\", data: [\"0x0\", \"0x6\", \"0x4\", \"0x0\"] },\n",
       "    { name: \"reg_d_out_01\",  wave: \"=.===\", data: [\"0x0\", \"0x7\", \"0x5\", \"0x0\"] },\n",
       "    { name: \"reg_d_out_10\",  wave: \"=.===\", data: [\"0x0\", \"0x6\", \"0x4\", \"0x0\"] },\n",
       "    { name: \"reg_d_out_11\",  wave: \"=..==\", data: [\"0x0\", \"0x7\", \"0x5\"] },\n",
       "    { name: \"reg_w_out_00\",  wave: \"====.\", data: [\"0x0\", \"0x2\", \"0x1\", \"0x0\"] },\n",
       "    { name: \"reg_w_out_01\",  wave: \"=.===\", data: [\"0x0\", \"0x2\", \"0x1\", \"0x0\"] },\n",
       "    { name: \"reg_w_out_10\",  wave: \"=.===\", data: [\"0x0\", \"0x4\", \"0x3\", \"0x0\"] },\n",
       "    { name: \"reg_w_out_11\",  wave: \"=..==\", data: [\"0x0\", \"0x4\", \"0x3\"] },\n",
       "  ],\n",
       "  config: { hscale: 1 }\n",
       "}\n",
       "</script>\n"
      ],
      "text/plain": [
       "<IPython.core.display.HTML object>"
      ]
     },
     "metadata": {},
     "output_type": "display_data"
    },
    {
     "data": {
      "application/javascript": [
       "\n",
       "            $.when(\n",
       "            $.getScript(\"https://cdnjs.cloudflare.com/ajax/libs/wavedrom/1.6.2/skins/default.js\"),\n",
       "            $.getScript(\"https://cdnjs.cloudflare.com/ajax/libs/wavedrom/1.6.2/wavedrom.min.js\"),\n",
       "            $.Deferred(function( deferred ){\n",
       "                $( deferred.resolve );\n",
       "            })).done(function(){\n",
       "                WaveDrom.ProcessAll();\n",
       "            });"
      ],
      "text/plain": [
       "<IPython.core.display.Javascript object>"
      ]
     },
     "metadata": {},
     "output_type": "display_data"
    }
   ],
   "source": [
    "sim_trace.render_trace()"
   ]
  },
  {
   "cell_type": "markdown",
   "id": "e379a2fb",
   "metadata": {},
   "source": [
    "## References\n",
    "\n",
    "- [PyRTL](https://ucsbarchlab.github.io/PyRTL/)\n",
    "- [An in-depth look at Google’s first Tensor Processing Unit (TPU)](https://cloud.google.com/blog/products/ai-machine-learning/an-in-depth-look-at-googles-first-tensor-processing-unit-tpu)\n",
    "- [Systolic-Array Implementation of Matrix-By-Matrix Multiplication](http://ecelabs.njit.edu/ece459/lab3.php)\n",
    "- [Systolic array - Wikipedia](https://en.wikipedia.org/wiki/Systolic_array)\n",
    "- [Systolic Array Matrix Multiplication](http://web.cecs.pdx.edu/~mperkows/temp/May22/0020.Matrix-multiplication-systolic.pdf)"
   ]
  }
 ],
 "metadata": {
  "kernelspec": {
   "display_name": "Python 3 (ipykernel)",
   "language": "python",
   "name": "python3"
  },
  "language_info": {
   "codemirror_mode": {
    "name": "ipython",
    "version": 3
   },
   "file_extension": ".py",
   "mimetype": "text/x-python",
   "name": "python",
   "nbconvert_exporter": "python",
   "pygments_lexer": "ipython3",
   "version": "3.8.12"
  }
 },
 "nbformat": 4,
 "nbformat_minor": 5
}
