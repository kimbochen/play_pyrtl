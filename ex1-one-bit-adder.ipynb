{
 "cells": [
  {
   "cell_type": "code",
   "execution_count": 1,
   "id": "4b1afe6b",
   "metadata": {},
   "outputs": [],
   "source": [
    "import pyrtl as pr"
   ]
  },
  {
   "cell_type": "code",
   "execution_count": 2,
   "id": "a0bbdaae",
   "metadata": {},
   "outputs": [],
   "source": [
    "tmp1 = pr.WireVector(bitwidth=1, name='temp1')\n",
    "tmp2 = pr.WireVector()  # Default: bidwidth = 1, name = 'tmp'"
   ]
  },
  {
   "cell_type": "code",
   "execution_count": 3,
   "id": "829ad252",
   "metadata": {},
   "outputs": [],
   "source": [
    "a = pr.Input(1, 'a')\n",
    "b = pr.Input(1, 'b')\n",
    "c = pr.Input(1, 'c')\n",
    "\n",
    "sum_out = pr.Output(1, 'sum')\n",
    "carry_out = pr.Output(1, 'cout')"
   ]
  },
  {
   "cell_type": "code",
   "execution_count": 4,
   "id": "284983ce",
   "metadata": {},
   "outputs": [],
   "source": [
    "sum_out <<= a ^ b ^ c"
   ]
  },
  {
   "cell_type": "code",
   "execution_count": 5,
   "id": "e9576f1d",
   "metadata": {},
   "outputs": [],
   "source": [
    "tmp1 <<= a & b\n",
    "tmp2 <<= a & c\n",
    "tmp3 = b & c\n",
    "carry_out <<= tmp1 | tmp2 | tmp3"
   ]
  },
  {
   "cell_type": "code",
   "execution_count": 6,
   "id": "0bd1c28c",
   "metadata": {},
   "outputs": [
    {
     "name": "stdout",
     "output_type": "stream",
     "text": [
      "--- One Bit Adder Implementation ---\n"
     ]
    },
    {
     "data": {
      "text/latex": [
       "\n",
       "\\begin{array}{ \\| c \\| c \\| l \\| }\n",
       "\n",
       "\\hline\n",
       "tmp1/1W & \\leftarrow \\oplus \\, - & a/1I, b/1I  \\\\\\hline\n",
       "tmp3/1W & \\leftarrow \\& \\, - & a/1I, b/1I  \\\\\\hline\n",
       "tmp5/1W & \\leftarrow \\& \\, - & b/1I, c/1I  \\\\\\hline\n",
       "tmp4/1W & \\leftarrow \\& \\, - & a/1I, c/1I  \\\\\\hline\n",
       "tmp2/1W & \\leftarrow \\oplus \\, - & tmp1/1W, c/1I  \\\\\\hline\n",
       "temp1/1W & \\leftarrow w \\, - & tmp3/1W  \\\\\\hline\n",
       "tmp0/1W & \\leftarrow w \\, - & tmp4/1W  \\\\\\hline\n",
       "sum/1O & \\leftarrow w \\, - & tmp2/1W  \\\\\\hline\n",
       "tmp6/1W & \\leftarrow \\| \\, - & temp1/1W, tmp0/1W  \\\\\\hline\n",
       "tmp7/1W & \\leftarrow \\| \\, - & tmp6/1W, tmp5/1W  \\\\\\hline\n",
       "cout/1O & \\leftarrow w \\, - & tmp7/1W  \\\\\\hline\n",
       "\\end{array}\n"
      ],
      "text/plain": [
       "<IPython.core.display.Latex object>"
      ]
     },
     "metadata": {},
     "output_type": "display_data"
    },
    {
     "name": "stdout",
     "output_type": "stream",
     "text": [
      " \n"
     ]
    }
   ],
   "source": [
    "print('--- One Bit Adder Implementation ---')\n",
    "print(pr.working_block())"
   ]
  },
  {
   "cell_type": "code",
   "execution_count": 7,
   "id": "29056ffe",
   "metadata": {},
   "outputs": [],
   "source": [
    "sim_trace = pr.SimulationTrace()\n",
    "sim = pr.Simulation(tracer=sim_trace)"
   ]
  },
  {
   "cell_type": "code",
   "execution_count": 8,
   "id": "db752aa5",
   "metadata": {},
   "outputs": [],
   "source": [
    "import random\n",
    "rand_bit = lambda: random.choice([0, 1])"
   ]
  },
  {
   "cell_type": "code",
   "execution_count": 9,
   "id": "871dd9b1",
   "metadata": {},
   "outputs": [],
   "source": [
    "for cycle in range(15):\n",
    "    sim.step({'a': rand_bit(), 'b': rand_bit(), 'c': rand_bit()})"
   ]
  },
  {
   "cell_type": "code",
   "execution_count": 10,
   "id": "c1ccef27",
   "metadata": {},
   "outputs": [
    {
     "name": "stdout",
     "output_type": "stream",
     "text": [
      "--- One Bit Adder Simulation ---\n"
     ]
    },
    {
     "data": {
      "text/html": [
       "<script type=\"WaveDrom\">\n",
       "{\n",
       "  signal : [\n",
       "    { name: \"a\",  wave: \"10...1.01...01.\" },\n",
       "    { name: \"b\",  wave: \"10.1.010...101.\" },\n",
       "    { name: \"c\",  wave: \"01.0.1..0..10..\" },\n",
       "    { name: \"cout\",  wave: \"10...1.0...101.\" },\n",
       "    { name: \"sum\",  wave: \"01...01.....0..\" },\n",
       "    { name: \"temp1\",  wave: \"10....10...101.\" },\n",
       "  ],\n",
       "  config: { hscale: 1 }\n",
       "}\n",
       "</script>\n"
      ],
      "text/plain": [
       "<IPython.core.display.HTML object>"
      ]
     },
     "metadata": {},
     "output_type": "display_data"
    },
    {
     "data": {
      "application/javascript": [
       "\n",
       "            $.when(\n",
       "            $.getScript(\"https://cdnjs.cloudflare.com/ajax/libs/wavedrom/1.6.2/skins/default.js\"),\n",
       "            $.getScript(\"https://cdnjs.cloudflare.com/ajax/libs/wavedrom/1.6.2/wavedrom.min.js\"),\n",
       "            $.Deferred(function( deferred ){\n",
       "                $( deferred.resolve );\n",
       "            })).done(function(){\n",
       "                WaveDrom.ProcessAll();\n",
       "            });"
      ],
      "text/plain": [
       "<IPython.core.display.Javascript object>"
      ]
     },
     "metadata": {},
     "output_type": "display_data"
    }
   ],
   "source": [
    "print('--- One Bit Adder Simulation ---')\n",
    "sim_trace.render_trace(symbol_len=5, segment_size=5)"
   ]
  },
  {
   "cell_type": "code",
   "execution_count": 11,
   "id": "94164d6c",
   "metadata": {},
   "outputs": [
    {
     "data": {
      "text/plain": [
       "1"
      ]
     },
     "execution_count": 11,
     "metadata": {},
     "output_type": "execute_result"
    }
   ],
   "source": [
    "a_value = sim.inspect(a)\n",
    "a_value"
   ]
  },
  {
   "cell_type": "code",
   "execution_count": 16,
   "id": "b1ca69ee",
   "metadata": {},
   "outputs": [],
   "source": [
    "def test_result(cycle):\n",
    "    sim_sum = sim_trace.trace['sum'][cycle]\n",
    "    sim_cout = sim_trace.trace['cout'][cycle]\n",
    "\n",
    "    a, b, c = map(lambda name: sim_trace.trace[name][cycle], ('a', 'b', 'c'))\n",
    "    result = a + b + c\n",
    "\n",
    "    exp_sum = result & 0x1\n",
    "    exp_cout = (result >> 1) & 0x1\n",
    "\n",
    "    print(f'{sim_sum=}, {exp_sum=}\\t{sim_cout=}, {exp_cout=}')"
   ]
  },
  {
   "cell_type": "code",
   "execution_count": 17,
   "id": "4428a583",
   "metadata": {},
   "outputs": [
    {
     "name": "stdout",
     "output_type": "stream",
     "text": [
      "sim_sum=0, exp_sum=0\tsim_cout=1, exp_cout=1\n",
      "sim_sum=1, exp_sum=1\tsim_cout=0, exp_cout=0\n",
      "sim_sum=1, exp_sum=1\tsim_cout=0, exp_cout=0\n",
      "sim_sum=1, exp_sum=1\tsim_cout=0, exp_cout=0\n",
      "sim_sum=1, exp_sum=1\tsim_cout=0, exp_cout=0\n",
      "sim_sum=0, exp_sum=0\tsim_cout=1, exp_cout=1\n",
      "sim_sum=1, exp_sum=1\tsim_cout=1, exp_cout=1\n",
      "sim_sum=1, exp_sum=1\tsim_cout=0, exp_cout=0\n",
      "sim_sum=1, exp_sum=1\tsim_cout=0, exp_cout=0\n",
      "sim_sum=1, exp_sum=1\tsim_cout=0, exp_cout=0\n",
      "sim_sum=1, exp_sum=1\tsim_cout=0, exp_cout=0\n",
      "sim_sum=1, exp_sum=1\tsim_cout=1, exp_cout=1\n",
      "sim_sum=0, exp_sum=0\tsim_cout=0, exp_cout=0\n",
      "sim_sum=0, exp_sum=0\tsim_cout=1, exp_cout=1\n",
      "sim_sum=0, exp_sum=0\tsim_cout=1, exp_cout=1\n"
     ]
    }
   ],
   "source": [
    "for cycle in range(15):\n",
    "    test_result(cycle)"
   ]
  }
 ],
 "metadata": {
  "kernelspec": {
   "display_name": "Python 3 (ipykernel)",
   "language": "python",
   "name": "python3"
  },
  "language_info": {
   "codemirror_mode": {
    "name": "ipython",
    "version": 3
   },
   "file_extension": ".py",
   "mimetype": "text/x-python",
   "name": "python",
   "nbconvert_exporter": "python",
   "pygments_lexer": "ipython3",
   "version": "3.8.12"
  }
 },
 "nbformat": 4,
 "nbformat_minor": 5
}
